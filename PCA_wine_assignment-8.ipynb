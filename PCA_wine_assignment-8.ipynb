{
 "cells": [
  {
   "cell_type": "code",
   "execution_count": 1,
   "id": "c1199489",
   "metadata": {},
   "outputs": [],
   "source": [
    "import pandas as pd \n",
    "import numpy as np\n",
    "from sklearn.decomposition import PCA\n",
    "import matplotlib.pyplot as plt\n",
    "from sklearn.preprocessing import scale \n",
    "import seaborn as sns"
   ]
  },
  {
   "cell_type": "code",
   "execution_count": 2,
   "id": "1da027b5",
   "metadata": {},
   "outputs": [],
   "source": [
    "data=pd.read_csv('E:\\\\data science\\\\assiments\\\\8\\\\wine.csv')"
   ]
  },
  {
   "cell_type": "code",
   "execution_count": 3,
   "id": "f48decaa",
   "metadata": {},
   "outputs": [
    {
     "data": {
      "text/html": [
       "<div>\n",
       "<style scoped>\n",
       "    .dataframe tbody tr th:only-of-type {\n",
       "        vertical-align: middle;\n",
       "    }\n",
       "\n",
       "    .dataframe tbody tr th {\n",
       "        vertical-align: top;\n",
       "    }\n",
       "\n",
       "    .dataframe thead th {\n",
       "        text-align: right;\n",
       "    }\n",
       "</style>\n",
       "<table border=\"1\" class=\"dataframe\">\n",
       "  <thead>\n",
       "    <tr style=\"text-align: right;\">\n",
       "      <th></th>\n",
       "      <th>Type</th>\n",
       "      <th>Alcohol</th>\n",
       "      <th>Malic</th>\n",
       "      <th>Ash</th>\n",
       "      <th>Alcalinity</th>\n",
       "      <th>Magnesium</th>\n",
       "      <th>Phenols</th>\n",
       "      <th>Flavanoids</th>\n",
       "      <th>Nonflavanoids</th>\n",
       "      <th>Proanthocyanins</th>\n",
       "      <th>Color</th>\n",
       "      <th>Hue</th>\n",
       "      <th>Dilution</th>\n",
       "      <th>Proline</th>\n",
       "    </tr>\n",
       "  </thead>\n",
       "  <tbody>\n",
       "    <tr>\n",
       "      <th>0</th>\n",
       "      <td>1</td>\n",
       "      <td>14.23</td>\n",
       "      <td>1.71</td>\n",
       "      <td>2.43</td>\n",
       "      <td>15.6</td>\n",
       "      <td>127</td>\n",
       "      <td>2.80</td>\n",
       "      <td>3.06</td>\n",
       "      <td>0.28</td>\n",
       "      <td>2.29</td>\n",
       "      <td>5.64</td>\n",
       "      <td>1.04</td>\n",
       "      <td>3.92</td>\n",
       "      <td>1065</td>\n",
       "    </tr>\n",
       "    <tr>\n",
       "      <th>1</th>\n",
       "      <td>1</td>\n",
       "      <td>13.20</td>\n",
       "      <td>1.78</td>\n",
       "      <td>2.14</td>\n",
       "      <td>11.2</td>\n",
       "      <td>100</td>\n",
       "      <td>2.65</td>\n",
       "      <td>2.76</td>\n",
       "      <td>0.26</td>\n",
       "      <td>1.28</td>\n",
       "      <td>4.38</td>\n",
       "      <td>1.05</td>\n",
       "      <td>3.40</td>\n",
       "      <td>1050</td>\n",
       "    </tr>\n",
       "    <tr>\n",
       "      <th>2</th>\n",
       "      <td>1</td>\n",
       "      <td>13.16</td>\n",
       "      <td>2.36</td>\n",
       "      <td>2.67</td>\n",
       "      <td>18.6</td>\n",
       "      <td>101</td>\n",
       "      <td>2.80</td>\n",
       "      <td>3.24</td>\n",
       "      <td>0.30</td>\n",
       "      <td>2.81</td>\n",
       "      <td>5.68</td>\n",
       "      <td>1.03</td>\n",
       "      <td>3.17</td>\n",
       "      <td>1185</td>\n",
       "    </tr>\n",
       "    <tr>\n",
       "      <th>3</th>\n",
       "      <td>1</td>\n",
       "      <td>14.37</td>\n",
       "      <td>1.95</td>\n",
       "      <td>2.50</td>\n",
       "      <td>16.8</td>\n",
       "      <td>113</td>\n",
       "      <td>3.85</td>\n",
       "      <td>3.49</td>\n",
       "      <td>0.24</td>\n",
       "      <td>2.18</td>\n",
       "      <td>7.80</td>\n",
       "      <td>0.86</td>\n",
       "      <td>3.45</td>\n",
       "      <td>1480</td>\n",
       "    </tr>\n",
       "    <tr>\n",
       "      <th>4</th>\n",
       "      <td>1</td>\n",
       "      <td>13.24</td>\n",
       "      <td>2.59</td>\n",
       "      <td>2.87</td>\n",
       "      <td>21.0</td>\n",
       "      <td>118</td>\n",
       "      <td>2.80</td>\n",
       "      <td>2.69</td>\n",
       "      <td>0.39</td>\n",
       "      <td>1.82</td>\n",
       "      <td>4.32</td>\n",
       "      <td>1.04</td>\n",
       "      <td>2.93</td>\n",
       "      <td>735</td>\n",
       "    </tr>\n",
       "  </tbody>\n",
       "</table>\n",
       "</div>"
      ],
      "text/plain": [
       "   Type  Alcohol  Malic   Ash  Alcalinity  Magnesium  Phenols  Flavanoids  \\\n",
       "0     1    14.23   1.71  2.43        15.6        127     2.80        3.06   \n",
       "1     1    13.20   1.78  2.14        11.2        100     2.65        2.76   \n",
       "2     1    13.16   2.36  2.67        18.6        101     2.80        3.24   \n",
       "3     1    14.37   1.95  2.50        16.8        113     3.85        3.49   \n",
       "4     1    13.24   2.59  2.87        21.0        118     2.80        2.69   \n",
       "\n",
       "   Nonflavanoids  Proanthocyanins  Color   Hue  Dilution  Proline  \n",
       "0           0.28             2.29   5.64  1.04      3.92     1065  \n",
       "1           0.26             1.28   4.38  1.05      3.40     1050  \n",
       "2           0.30             2.81   5.68  1.03      3.17     1185  \n",
       "3           0.24             2.18   7.80  0.86      3.45     1480  \n",
       "4           0.39             1.82   4.32  1.04      2.93      735  "
      ]
     },
     "execution_count": 3,
     "metadata": {},
     "output_type": "execute_result"
    }
   ],
   "source": [
    "data.head()"
   ]
  },
  {
   "cell_type": "code",
   "execution_count": 66,
   "id": "892bb2e7",
   "metadata": {},
   "outputs": [
    {
     "data": {
      "text/plain": [
       "array([1, 2, 3], dtype=int64)"
      ]
     },
     "execution_count": 66,
     "metadata": {},
     "output_type": "execute_result"
    }
   ],
   "source": [
    "data.Type.unique()"
   ]
  },
  {
   "cell_type": "code",
   "execution_count": null,
   "id": "e77221b1",
   "metadata": {},
   "outputs": [],
   "source": []
  },
  {
   "cell_type": "code",
   "execution_count": 4,
   "id": "10d98453",
   "metadata": {},
   "outputs": [
    {
     "name": "stdout",
     "output_type": "stream",
     "text": [
      "<class 'pandas.core.frame.DataFrame'>\n",
      "RangeIndex: 178 entries, 0 to 177\n",
      "Data columns (total 14 columns):\n",
      " #   Column           Non-Null Count  Dtype  \n",
      "---  ------           --------------  -----  \n",
      " 0   Type             178 non-null    int64  \n",
      " 1   Alcohol          178 non-null    float64\n",
      " 2   Malic            178 non-null    float64\n",
      " 3   Ash              178 non-null    float64\n",
      " 4   Alcalinity       178 non-null    float64\n",
      " 5   Magnesium        178 non-null    int64  \n",
      " 6   Phenols          178 non-null    float64\n",
      " 7   Flavanoids       178 non-null    float64\n",
      " 8   Nonflavanoids    178 non-null    float64\n",
      " 9   Proanthocyanins  178 non-null    float64\n",
      " 10  Color            178 non-null    float64\n",
      " 11  Hue              178 non-null    float64\n",
      " 12  Dilution         178 non-null    float64\n",
      " 13  Proline          178 non-null    int64  \n",
      "dtypes: float64(11), int64(3)\n",
      "memory usage: 19.6 KB\n"
     ]
    }
   ],
   "source": [
    "data.info()"
   ]
  },
  {
   "cell_type": "code",
   "execution_count": 5,
   "id": "c203d69d",
   "metadata": {},
   "outputs": [],
   "source": [
    "df=data.iloc[:,1:]"
   ]
  },
  {
   "cell_type": "code",
   "execution_count": 6,
   "id": "09a01e96",
   "metadata": {},
   "outputs": [],
   "source": [
    "wine=df.values"
   ]
  },
  {
   "cell_type": "code",
   "execution_count": 7,
   "id": "7a315628",
   "metadata": {},
   "outputs": [
    {
     "data": {
      "text/plain": [
       "array([[1.423e+01, 1.710e+00, 2.430e+00, ..., 1.040e+00, 3.920e+00,\n",
       "        1.065e+03],\n",
       "       [1.320e+01, 1.780e+00, 2.140e+00, ..., 1.050e+00, 3.400e+00,\n",
       "        1.050e+03],\n",
       "       [1.316e+01, 2.360e+00, 2.670e+00, ..., 1.030e+00, 3.170e+00,\n",
       "        1.185e+03],\n",
       "       ...,\n",
       "       [1.327e+01, 4.280e+00, 2.260e+00, ..., 5.900e-01, 1.560e+00,\n",
       "        8.350e+02],\n",
       "       [1.317e+01, 2.590e+00, 2.370e+00, ..., 6.000e-01, 1.620e+00,\n",
       "        8.400e+02],\n",
       "       [1.413e+01, 4.100e+00, 2.740e+00, ..., 6.100e-01, 1.600e+00,\n",
       "        5.600e+02]])"
      ]
     },
     "execution_count": 7,
     "metadata": {},
     "output_type": "execute_result"
    }
   ],
   "source": [
    "wine"
   ]
  },
  {
   "cell_type": "code",
   "execution_count": 8,
   "id": "bd2fd76e",
   "metadata": {},
   "outputs": [],
   "source": [
    "wine_normal=scale(wine)"
   ]
  },
  {
   "cell_type": "code",
   "execution_count": 9,
   "id": "b594edf7",
   "metadata": {},
   "outputs": [
    {
     "data": {
      "text/plain": [
       "array([[ 1.51861254, -0.5622498 ,  0.23205254, ...,  0.36217728,\n",
       "         1.84791957,  1.01300893],\n",
       "       [ 0.24628963, -0.49941338, -0.82799632, ...,  0.40605066,\n",
       "         1.1134493 ,  0.96524152],\n",
       "       [ 0.19687903,  0.02123125,  1.10933436, ...,  0.31830389,\n",
       "         0.78858745,  1.39514818],\n",
       "       ...,\n",
       "       [ 0.33275817,  1.74474449, -0.38935541, ..., -1.61212515,\n",
       "        -1.48544548,  0.28057537],\n",
       "       [ 0.20923168,  0.22769377,  0.01273209, ..., -1.56825176,\n",
       "        -1.40069891,  0.29649784],\n",
       "       [ 1.39508604,  1.58316512,  1.36520822, ..., -1.52437837,\n",
       "        -1.42894777, -0.59516041]])"
      ]
     },
     "execution_count": 9,
     "metadata": {},
     "output_type": "execute_result"
    }
   ],
   "source": [
    "wine_normal"
   ]
  },
  {
   "cell_type": "markdown",
   "id": "47a5999d",
   "metadata": {},
   "source": [
    "## PCA"
   ]
  },
  {
   "cell_type": "code",
   "execution_count": 10,
   "id": "a012bdfb",
   "metadata": {},
   "outputs": [],
   "source": [
    "pca=PCA()\n",
    "pca_values=pca.fit_transform(wine_normal)"
   ]
  },
  {
   "cell_type": "code",
   "execution_count": 11,
   "id": "c12e5c61",
   "metadata": {},
   "outputs": [
    {
     "data": {
      "text/plain": [
       "array([[ 3.31675081e+00, -1.44346263e+00, -1.65739045e-01, ...,\n",
       "        -4.51563395e-01,  5.40810414e-01, -6.62386309e-02],\n",
       "       [ 2.20946492e+00,  3.33392887e-01, -2.02645737e+00, ...,\n",
       "        -1.42657306e-01,  3.88237741e-01,  3.63650247e-03],\n",
       "       [ 2.51674015e+00, -1.03115130e+00,  9.82818670e-01, ...,\n",
       "        -2.86672847e-01,  5.83573183e-04,  2.17165104e-02],\n",
       "       ...,\n",
       "       [-2.67783946e+00, -2.76089913e+00, -9.40941877e-01, ...,\n",
       "         5.12492025e-01,  6.98766451e-01,  7.20776948e-02],\n",
       "       [-2.38701709e+00, -2.29734668e+00, -5.50696197e-01, ...,\n",
       "         2.99821968e-01,  3.39820654e-01, -2.18657605e-02],\n",
       "       [-3.20875816e+00, -2.76891957e+00,  1.01391366e+00, ...,\n",
       "        -2.29964331e-01, -1.88787963e-01, -3.23964720e-01]])"
      ]
     },
     "execution_count": 11,
     "metadata": {},
     "output_type": "execute_result"
    }
   ],
   "source": [
    "pca_values"
   ]
  },
  {
   "cell_type": "code",
   "execution_count": 12,
   "id": "d0270758",
   "metadata": {},
   "outputs": [],
   "source": [
    "pca = PCA(n_components = 13)\n",
    "pca_values = pca.fit_transform(wine_normal)"
   ]
  },
  {
   "cell_type": "code",
   "execution_count": 13,
   "id": "a5fe8f84",
   "metadata": {},
   "outputs": [
    {
     "data": {
      "text/plain": [
       "array([[ 3.31675081e+00, -1.44346263e+00, -1.65739045e-01, ...,\n",
       "        -4.51563395e-01,  5.40810414e-01, -6.62386309e-02],\n",
       "       [ 2.20946492e+00,  3.33392887e-01, -2.02645737e+00, ...,\n",
       "        -1.42657306e-01,  3.88237741e-01,  3.63650247e-03],\n",
       "       [ 2.51674015e+00, -1.03115130e+00,  9.82818670e-01, ...,\n",
       "        -2.86672847e-01,  5.83573183e-04,  2.17165104e-02],\n",
       "       ...,\n",
       "       [-2.67783946e+00, -2.76089913e+00, -9.40941877e-01, ...,\n",
       "         5.12492025e-01,  6.98766451e-01,  7.20776948e-02],\n",
       "       [-2.38701709e+00, -2.29734668e+00, -5.50696197e-01, ...,\n",
       "         2.99821968e-01,  3.39820654e-01, -2.18657605e-02],\n",
       "       [-3.20875816e+00, -2.76891957e+00,  1.01391366e+00, ...,\n",
       "        -2.29964331e-01, -1.88787963e-01, -3.23964720e-01]])"
      ]
     },
     "execution_count": 13,
     "metadata": {},
     "output_type": "execute_result"
    }
   ],
   "source": [
    "pca_values"
   ]
  },
  {
   "cell_type": "code",
   "execution_count": 14,
   "id": "bd6559ad",
   "metadata": {},
   "outputs": [
    {
     "data": {
      "text/plain": [
       "array([0.36198848, 0.1920749 , 0.11123631, 0.0706903 , 0.06563294,\n",
       "       0.04935823, 0.04238679, 0.02680749, 0.02222153, 0.01930019,\n",
       "       0.01736836, 0.01298233, 0.00795215])"
      ]
     },
     "execution_count": 14,
     "metadata": {},
     "output_type": "execute_result"
    }
   ],
   "source": [
    "var = pca.explained_variance_ratio_\n",
    "var"
   ]
  },
  {
   "cell_type": "code",
   "execution_count": 15,
   "id": "1c7dccfd",
   "metadata": {},
   "outputs": [
    {
     "data": {
      "text/plain": [
       "array([ 36.2 ,  55.41,  66.53,  73.6 ,  80.16,  85.1 ,  89.34,  92.02,\n",
       "        94.24,  96.17,  97.91,  99.21, 100.01])"
      ]
     },
     "execution_count": 15,
     "metadata": {},
     "output_type": "execute_result"
    }
   ],
   "source": [
    "var1 = np.cumsum(np.round(var,decimals = 4)*100)\n",
    "var1"
   ]
  },
  {
   "cell_type": "code",
   "execution_count": 16,
   "id": "6b056256",
   "metadata": {},
   "outputs": [
    {
     "data": {
      "text/plain": [
       "array([[ 0.1443294 , -0.24518758, -0.00205106, -0.23932041,  0.14199204,\n",
       "         0.39466085,  0.4229343 , -0.2985331 ,  0.31342949, -0.0886167 ,\n",
       "         0.29671456,  0.37616741,  0.28675223],\n",
       "       [-0.48365155, -0.22493093, -0.31606881,  0.0105905 , -0.299634  ,\n",
       "        -0.06503951,  0.00335981, -0.02877949, -0.03930172, -0.52999567,\n",
       "         0.27923515,  0.16449619, -0.36490283],\n",
       "       [-0.20738262,  0.08901289,  0.6262239 ,  0.61208035,  0.13075693,\n",
       "         0.14617896,  0.1506819 ,  0.17036816,  0.14945431, -0.13730621,\n",
       "         0.08522192,  0.16600459, -0.12674592],\n",
       "       [-0.0178563 ,  0.53689028, -0.21417556,  0.06085941, -0.35179658,\n",
       "         0.19806835,  0.15229479, -0.20330102,  0.39905653,  0.06592568,\n",
       "        -0.42777141,  0.18412074, -0.23207086],\n",
       "       [-0.26566365,  0.03521363, -0.14302547,  0.06610294,  0.72704851,\n",
       "        -0.14931841, -0.10902584, -0.50070298,  0.13685982, -0.07643678,\n",
       "        -0.17361452, -0.10116099, -0.1578688 ],\n",
       "       [-0.21353865, -0.53681385, -0.15447466,  0.10082451, -0.03814394,\n",
       "         0.0841223 ,  0.01892002,  0.25859401,  0.53379539,  0.41864414,\n",
       "        -0.10598274, -0.26585107, -0.11972557],\n",
       "       [-0.05639636,  0.42052391, -0.14917061, -0.28696914,  0.3228833 ,\n",
       "        -0.02792498, -0.06068521,  0.59544729,  0.37213935, -0.22771214,\n",
       "         0.23207564, -0.0447637 ,  0.0768045 ],\n",
       "       [-0.39613926, -0.06582674,  0.17026002, -0.42797018,  0.15636143,\n",
       "         0.40593409,  0.18724536,  0.23328465, -0.36822675,  0.03379692,\n",
       "        -0.43662362,  0.07810789, -0.12002267],\n",
       "       [ 0.50861912, -0.07528304, -0.30769445,  0.20044931,  0.27140257,\n",
       "         0.28603452,  0.04957849,  0.19550132, -0.20914487,  0.05621752,\n",
       "         0.08582839,  0.1372269 , -0.57578611],\n",
       "       [ 0.21160473, -0.30907994, -0.02712539,  0.05279942,  0.06787022,\n",
       "        -0.32013135, -0.16315051,  0.21553507,  0.1341839 , -0.29077518,\n",
       "        -0.52239889,  0.52370587,  0.162116  ],\n",
       "       [-0.22591696,  0.07648554, -0.49869142,  0.47931378,  0.07128891,\n",
       "         0.30434119, -0.02569409,  0.11689586, -0.23736257,  0.0318388 ,\n",
       "        -0.04821201,  0.0464233 ,  0.53926983],\n",
       "       [-0.26628645,  0.12169604, -0.04962237, -0.05574287,  0.06222011,\n",
       "        -0.30388245, -0.04289883,  0.04235219, -0.09555303,  0.60422163,\n",
       "         0.259214  ,  0.60095872, -0.07940162],\n",
       "       [ 0.01496997,  0.02596375, -0.14121803,  0.09168285,  0.05677422,\n",
       "        -0.46390791,  0.83225706,  0.11403985, -0.11691707, -0.0119928 ,\n",
       "        -0.08988884, -0.15671813,  0.01444734]])"
      ]
     },
     "execution_count": 16,
     "metadata": {},
     "output_type": "execute_result"
    }
   ],
   "source": [
    "pca.components_"
   ]
  },
  {
   "cell_type": "code",
   "execution_count": 17,
   "id": "1d8061d7",
   "metadata": {},
   "outputs": [
    {
     "data": {
      "text/plain": [
       "[<matplotlib.lines.Line2D at 0x27e7fd98370>]"
      ]
     },
     "execution_count": 17,
     "metadata": {},
     "output_type": "execute_result"
    },
    {
     "data": {
      "image/png": "[encoded data removed]",
      "text/plain": [
       "<Figure size 432x288 with 1 Axes>"
      ]
     },
     "metadata": {
      "needs_background": "light"
     },
     "output_type": "display_data"
    }
   ],
   "source": [
    "plt.plot(var1,color=\"red\")"
   ]
  },
  {
   "cell_type": "code",
   "execution_count": 18,
   "id": "ec162339",
   "metadata": {},
   "outputs": [
    {
     "data": {
      "text/plain": [
       "array([[ 3.31675081],\n",
       "       [ 2.20946492],\n",
       "       [ 2.51674015],\n",
       "       [ 3.75706561],\n",
       "       [ 1.00890849],\n",
       "       [ 3.05025392],\n",
       "       [ 2.44908967],\n",
       "       [ 2.05943687],\n",
       "       [ 2.5108743 ],\n",
       "       [ 2.75362819],\n",
       "       [ 3.47973668],\n",
       "       [ 1.7547529 ],\n",
       "       [ 2.11346234],\n",
       "       [ 3.45815682],\n",
       "       [ 4.31278391],\n",
       "       [ 2.3051882 ],\n",
       "       [ 2.17195527],\n",
       "       [ 1.89897118],\n",
       "       [ 3.54198508],\n",
       "       [ 2.0845222 ],\n",
       "       [ 3.12440254],\n",
       "       [ 1.08657007],\n",
       "       [ 2.53522408],\n",
       "       [ 1.64498834],\n",
       "       [ 1.76157587],\n",
       "       [ 0.9900791 ],\n",
       "       [ 1.77527763],\n",
       "       [ 1.23542396],\n",
       "       [ 2.18840633],\n",
       "       [ 2.25610898],\n",
       "       [ 2.50022003],\n",
       "       [ 2.67741105],\n",
       "       [ 1.62857912],\n",
       "       [ 1.90269086],\n",
       "       [ 1.41038853],\n",
       "       [ 1.90382623],\n",
       "       [ 1.38486223],\n",
       "       [ 1.12220741],\n",
       "       [ 1.5021945 ],\n",
       "       [ 2.52980109],\n",
       "       [ 2.58809543],\n",
       "       [ 0.66848199],\n",
       "       [ 3.07080699],\n",
       "       [ 0.46220914],\n",
       "       [ 2.10135193],\n",
       "       [ 1.13616618],\n",
       "       [ 2.72660096],\n",
       "       [ 2.82133927],\n",
       "       [ 2.00985085],\n",
       "       [ 2.7074913 ],\n",
       "       [ 3.21491747],\n",
       "       [ 2.85895983],\n",
       "       [ 3.50560436],\n",
       "       [ 2.22479138],\n",
       "       [ 2.14698782],\n",
       "       [ 2.46932948],\n",
       "       [ 2.74151791],\n",
       "       [ 2.17374092],\n",
       "       [ 3.13938015],\n",
       "       [-0.92858197],\n",
       "       [-1.54248014],\n",
       "       [-1.83624976],\n",
       "       [ 0.03060683],\n",
       "       [ 2.05026161],\n",
       "       [-0.60968083],\n",
       "       [ 0.90022784],\n",
       "       [ 2.24850719],\n",
       "       [ 0.18338403],\n",
       "       [-0.81280503],\n",
       "       [ 1.9756205 ],\n",
       "       [-1.57221622],\n",
       "       [ 1.65768181],\n",
       "       [-0.72537239],\n",
       "       [ 2.56222717],\n",
       "       [ 1.83256757],\n",
       "       [-0.8679929 ],\n",
       "       [ 0.3700144 ],\n",
       "       [-1.45737704],\n",
       "       [ 1.26293085],\n",
       "       [ 0.37615037],\n",
       "       [ 0.7620639 ],\n",
       "       [ 1.03457797],\n",
       "       [-0.49487676],\n",
       "       [-2.53897708],\n",
       "       [ 0.83532015],\n",
       "       [ 0.78790461],\n",
       "       [-0.80683216],\n",
       "       [-0.55804262],\n",
       "       [-1.11511104],\n",
       "       [-0.55572283],\n",
       "       [-1.34928528],\n",
       "       [-1.56448261],\n",
       "       [-1.93255561],\n",
       "       [ 0.74666594],\n",
       "       [ 0.95745536],\n",
       "       [ 2.54386518],\n",
       "       [-0.54395259],\n",
       "       [ 1.03104975],\n",
       "       [ 2.25190942],\n",
       "       [ 1.41021602],\n",
       "       [ 0.79771979],\n",
       "       [-0.54953173],\n",
       "       [-0.16117374],\n",
       "       [-0.65979494],\n",
       "       [ 0.39235441],\n",
       "       [-1.77249908],\n",
       "       [-0.36626736],\n",
       "       [-1.62067257],\n",
       "       [ 0.08253578],\n",
       "       [ 1.57827507],\n",
       "       [ 1.42056925],\n",
       "       [-0.27870275],\n",
       "       [-1.30314497],\n",
       "       [-0.45707187],\n",
       "       [-0.49418585],\n",
       "       [ 0.48207441],\n",
       "       [-0.25288888],\n",
       "       [-0.10722764],\n",
       "       [-2.4330126 ],\n",
       "       [-0.55108954],\n",
       "       [ 0.73962193],\n",
       "       [ 1.33632173],\n",
       "       [-1.177087  ],\n",
       "       [-0.46233501],\n",
       "       [ 0.97847408],\n",
       "       [-0.09680973],\n",
       "       [ 0.03848715],\n",
       "       [-1.5971585 ],\n",
       "       [-0.47956492],\n",
       "       [-1.79283347],\n",
       "       [-1.32710166],\n",
       "       [-2.38450083],\n",
       "       [-2.9369401 ],\n",
       "       [-2.14681113],\n",
       "       [-2.36986949],\n",
       "       [-3.06384157],\n",
       "       [-3.91575378],\n",
       "       [-3.93646339],\n",
       "       [-3.09427612],\n",
       "       [-2.37447163],\n",
       "       [-2.77881295],\n",
       "       [-2.28656128],\n",
       "       [-2.98563349],\n",
       "       [-2.3751947 ],\n",
       "       [-2.20986553],\n",
       "       [-2.625621  ],\n",
       "       [-4.28063878],\n",
       "       [-3.58264137],\n",
       "       [-2.80706372],\n",
       "       [-2.89965933],\n",
       "       [-2.32073698],\n",
       "       [-2.54983095],\n",
       "       [-1.81254128],\n",
       "       [-2.76014464],\n",
       "       [-2.7371505 ],\n",
       "       [-3.60486887],\n",
       "       [-2.889826  ],\n",
       "       [-3.39215608],\n",
       "       [-1.0481819 ],\n",
       "       [-1.60991228],\n",
       "       [-3.14313097],\n",
       "       [-2.2401569 ],\n",
       "       [-2.84767378],\n",
       "       [-2.59749706],\n",
       "       [-2.94929937],\n",
       "       [-3.53003227],\n",
       "       [-2.40611054],\n",
       "       [-2.92908473],\n",
       "       [-2.18141278],\n",
       "       [-2.38092779],\n",
       "       [-3.21161722],\n",
       "       [-3.67791872],\n",
       "       [-2.4655558 ],\n",
       "       [-3.37052415],\n",
       "       [-2.60195585],\n",
       "       [-2.67783946],\n",
       "       [-2.38701709],\n",
       "       [-3.20875816]])"
      ]
     },
     "execution_count": 18,
     "metadata": {},
     "output_type": "execute_result"
    }
   ],
   "source": [
    " pca_values[:,0:1]"
   ]
  },
  {
   "cell_type": "code",
   "execution_count": 22,
   "id": "7dd1b98b",
   "metadata": {},
   "outputs": [
    {
     "data": {
      "text/plain": [
       "<matplotlib.collections.PathCollection at 0x27e03841c70>"
      ]
     },
     "execution_count": 22,
     "metadata": {},
     "output_type": "execute_result"
    },
    {
     "data": {
      "image/png": "[encoded data removed]",
      "text/plain": [
       "<Figure size 432x288 with 1 Axes>"
      ]
     },
     "metadata": {
      "needs_background": "light"
     },
     "output_type": "display_data"
    }
   ],
   "source": [
    "x = pca_values[:,0:1]\n",
    "y = pca_values[:,1:2]\n",
    "#z = pca_values[:2:3]\n",
    "plt.scatter(x,y)"
   ]
  },
  {
   "cell_type": "code",
   "execution_count": 23,
   "id": "b2e69ac8",
   "metadata": {},
   "outputs": [],
   "source": [
    "finalDf = pd.concat([pd.DataFrame(pca_values[:,0:3],columns=['pc1','pc2','pc3']), data[['Type']]], axis = 1)"
   ]
  },
  {
   "cell_type": "code",
   "execution_count": 24,
   "id": "3fc1dda1",
   "metadata": {},
   "outputs": [
    {
     "data": {
      "text/html": [
       "<div>\n",
       "<style scoped>\n",
       "    .dataframe tbody tr th:only-of-type {\n",
       "        vertical-align: middle;\n",
       "    }\n",
       "\n",
       "    .dataframe tbody tr th {\n",
       "        vertical-align: top;\n",
       "    }\n",
       "\n",
       "    .dataframe thead th {\n",
       "        text-align: right;\n",
       "    }\n",
       "</style>\n",
       "<table border=\"1\" class=\"dataframe\">\n",
       "  <thead>\n",
       "    <tr style=\"text-align: right;\">\n",
       "      <th></th>\n",
       "      <th>pc1</th>\n",
       "      <th>pc2</th>\n",
       "      <th>pc3</th>\n",
       "      <th>Type</th>\n",
       "    </tr>\n",
       "  </thead>\n",
       "  <tbody>\n",
       "    <tr>\n",
       "      <th>0</th>\n",
       "      <td>3.316751</td>\n",
       "      <td>-1.443463</td>\n",
       "      <td>-0.165739</td>\n",
       "      <td>1</td>\n",
       "    </tr>\n",
       "    <tr>\n",
       "      <th>1</th>\n",
       "      <td>2.209465</td>\n",
       "      <td>0.333393</td>\n",
       "      <td>-2.026457</td>\n",
       "      <td>1</td>\n",
       "    </tr>\n",
       "    <tr>\n",
       "      <th>2</th>\n",
       "      <td>2.516740</td>\n",
       "      <td>-1.031151</td>\n",
       "      <td>0.982819</td>\n",
       "      <td>1</td>\n",
       "    </tr>\n",
       "    <tr>\n",
       "      <th>3</th>\n",
       "      <td>3.757066</td>\n",
       "      <td>-2.756372</td>\n",
       "      <td>-0.176192</td>\n",
       "      <td>1</td>\n",
       "    </tr>\n",
       "    <tr>\n",
       "      <th>4</th>\n",
       "      <td>1.008908</td>\n",
       "      <td>-0.869831</td>\n",
       "      <td>2.026688</td>\n",
       "      <td>1</td>\n",
       "    </tr>\n",
       "    <tr>\n",
       "      <th>...</th>\n",
       "      <td>...</td>\n",
       "      <td>...</td>\n",
       "      <td>...</td>\n",
       "      <td>...</td>\n",
       "    </tr>\n",
       "    <tr>\n",
       "      <th>173</th>\n",
       "      <td>-3.370524</td>\n",
       "      <td>-2.216289</td>\n",
       "      <td>-0.342570</td>\n",
       "      <td>3</td>\n",
       "    </tr>\n",
       "    <tr>\n",
       "      <th>174</th>\n",
       "      <td>-2.601956</td>\n",
       "      <td>-1.757229</td>\n",
       "      <td>0.207581</td>\n",
       "      <td>3</td>\n",
       "    </tr>\n",
       "    <tr>\n",
       "      <th>175</th>\n",
       "      <td>-2.677839</td>\n",
       "      <td>-2.760899</td>\n",
       "      <td>-0.940942</td>\n",
       "      <td>3</td>\n",
       "    </tr>\n",
       "    <tr>\n",
       "      <th>176</th>\n",
       "      <td>-2.387017</td>\n",
       "      <td>-2.297347</td>\n",
       "      <td>-0.550696</td>\n",
       "      <td>3</td>\n",
       "    </tr>\n",
       "    <tr>\n",
       "      <th>177</th>\n",
       "      <td>-3.208758</td>\n",
       "      <td>-2.768920</td>\n",
       "      <td>1.013914</td>\n",
       "      <td>3</td>\n",
       "    </tr>\n",
       "  </tbody>\n",
       "</table>\n",
       "<p>178 rows × 4 columns</p>\n",
       "</div>"
      ],
      "text/plain": [
       "          pc1       pc2       pc3  Type\n",
       "0    3.316751 -1.443463 -0.165739     1\n",
       "1    2.209465  0.333393 -2.026457     1\n",
       "2    2.516740 -1.031151  0.982819     1\n",
       "3    3.757066 -2.756372 -0.176192     1\n",
       "4    1.008908 -0.869831  2.026688     1\n",
       "..        ...       ...       ...   ...\n",
       "173 -3.370524 -2.216289 -0.342570     3\n",
       "174 -2.601956 -1.757229  0.207581     3\n",
       "175 -2.677839 -2.760899 -0.940942     3\n",
       "176 -2.387017 -2.297347 -0.550696     3\n",
       "177 -3.208758 -2.768920  1.013914     3\n",
       "\n",
       "[178 rows x 4 columns]"
      ]
     },
     "execution_count": 24,
     "metadata": {},
     "output_type": "execute_result"
    }
   ],
   "source": [
    "finalDf"
   ]
  },
  {
   "cell_type": "code",
   "execution_count": 25,
   "id": "decd1add",
   "metadata": {},
   "outputs": [
    {
     "data": {
      "text/plain": [
       "<AxesSubplot:xlabel='pc1', ylabel='pc2'>"
      ]
     },
     "execution_count": 25,
     "metadata": {},
     "output_type": "execute_result"
    },
    {
     "data": {
      "image/png": "[encoded data removed]",
      "text/plain": [
       "<Figure size 432x288 with 1 Axes>"
      ]
     },
     "metadata": {
      "needs_background": "light"
     },
     "output_type": "display_data"
    }
   ],
   "source": [
    "sns.scatterplot(data=finalDf,x='pc1',y='pc2',hue='Type')"
   ]
  },
  {
   "cell_type": "code",
   "execution_count": 26,
   "id": "75bfc495",
   "metadata": {},
   "outputs": [
    {
     "data": {
      "text/plain": [
       "<AxesSubplot:xlabel='pc2', ylabel='pc3'>"
      ]
     },
     "execution_count": 26,
     "metadata": {},
     "output_type": "execute_result"
    },
    {
     "data": {
      "image/png": "[encoded data removed]",
      "text/plain": [
       "<Figure size 432x288 with 1 Axes>"
      ]
     },
     "metadata": {
      "needs_background": "light"
     },
     "output_type": "display_data"
    }
   ],
   "source": [
    "sns.scatterplot(data=finalDf,x='pc2',y='pc3',hue='Type')"
   ]
  },
  {
   "cell_type": "code",
   "execution_count": 27,
   "id": "b320c2cd",
   "metadata": {},
   "outputs": [
    {
     "data": {
      "text/plain": [
       "<AxesSubplot:xlabel='pc1', ylabel='pc3'>"
      ]
     },
     "execution_count": 27,
     "metadata": {},
     "output_type": "execute_result"
    },
    {
     "data": {
      "image/png": "[encoded data removed]",
      "text/plain": [
       "<Figure size 432x288 with 1 Axes>"
      ]
     },
     "metadata": {
      "needs_background": "light"
     },
     "output_type": "display_data"
    }
   ],
   "source": [
    "sns.scatterplot(data=finalDf,x='pc1',y='pc3',hue='Type')"
   ]
  },
  {
   "cell_type": "code",
   "execution_count": 28,
   "id": "eeb6fa46",
   "metadata": {},
   "outputs": [
    {
     "data": {
      "text/html": [
       "<div>\n",
       "<style scoped>\n",
       "    .dataframe tbody tr th:only-of-type {\n",
       "        vertical-align: middle;\n",
       "    }\n",
       "\n",
       "    .dataframe tbody tr th {\n",
       "        vertical-align: top;\n",
       "    }\n",
       "\n",
       "    .dataframe thead th {\n",
       "        text-align: right;\n",
       "    }\n",
       "</style>\n",
       "<table border=\"1\" class=\"dataframe\">\n",
       "  <thead>\n",
       "    <tr style=\"text-align: right;\">\n",
       "      <th></th>\n",
       "      <th>pc1</th>\n",
       "      <th>pc2</th>\n",
       "      <th>pc3</th>\n",
       "      <th>Type</th>\n",
       "    </tr>\n",
       "  </thead>\n",
       "  <tbody>\n",
       "    <tr>\n",
       "      <th>0</th>\n",
       "      <td>3.316751</td>\n",
       "      <td>-1.443463</td>\n",
       "      <td>-0.165739</td>\n",
       "      <td>1</td>\n",
       "    </tr>\n",
       "    <tr>\n",
       "      <th>1</th>\n",
       "      <td>2.209465</td>\n",
       "      <td>0.333393</td>\n",
       "      <td>-2.026457</td>\n",
       "      <td>1</td>\n",
       "    </tr>\n",
       "    <tr>\n",
       "      <th>2</th>\n",
       "      <td>2.516740</td>\n",
       "      <td>-1.031151</td>\n",
       "      <td>0.982819</td>\n",
       "      <td>1</td>\n",
       "    </tr>\n",
       "    <tr>\n",
       "      <th>3</th>\n",
       "      <td>3.757066</td>\n",
       "      <td>-2.756372</td>\n",
       "      <td>-0.176192</td>\n",
       "      <td>1</td>\n",
       "    </tr>\n",
       "    <tr>\n",
       "      <th>4</th>\n",
       "      <td>1.008908</td>\n",
       "      <td>-0.869831</td>\n",
       "      <td>2.026688</td>\n",
       "      <td>1</td>\n",
       "    </tr>\n",
       "    <tr>\n",
       "      <th>...</th>\n",
       "      <td>...</td>\n",
       "      <td>...</td>\n",
       "      <td>...</td>\n",
       "      <td>...</td>\n",
       "    </tr>\n",
       "    <tr>\n",
       "      <th>173</th>\n",
       "      <td>-3.370524</td>\n",
       "      <td>-2.216289</td>\n",
       "      <td>-0.342570</td>\n",
       "      <td>3</td>\n",
       "    </tr>\n",
       "    <tr>\n",
       "      <th>174</th>\n",
       "      <td>-2.601956</td>\n",
       "      <td>-1.757229</td>\n",
       "      <td>0.207581</td>\n",
       "      <td>3</td>\n",
       "    </tr>\n",
       "    <tr>\n",
       "      <th>175</th>\n",
       "      <td>-2.677839</td>\n",
       "      <td>-2.760899</td>\n",
       "      <td>-0.940942</td>\n",
       "      <td>3</td>\n",
       "    </tr>\n",
       "    <tr>\n",
       "      <th>176</th>\n",
       "      <td>-2.387017</td>\n",
       "      <td>-2.297347</td>\n",
       "      <td>-0.550696</td>\n",
       "      <td>3</td>\n",
       "    </tr>\n",
       "    <tr>\n",
       "      <th>177</th>\n",
       "      <td>-3.208758</td>\n",
       "      <td>-2.768920</td>\n",
       "      <td>1.013914</td>\n",
       "      <td>3</td>\n",
       "    </tr>\n",
       "  </tbody>\n",
       "</table>\n",
       "<p>178 rows × 4 columns</p>\n",
       "</div>"
      ],
      "text/plain": [
       "          pc1       pc2       pc3  Type\n",
       "0    3.316751 -1.443463 -0.165739     1\n",
       "1    2.209465  0.333393 -2.026457     1\n",
       "2    2.516740 -1.031151  0.982819     1\n",
       "3    3.757066 -2.756372 -0.176192     1\n",
       "4    1.008908 -0.869831  2.026688     1\n",
       "..        ...       ...       ...   ...\n",
       "173 -3.370524 -2.216289 -0.342570     3\n",
       "174 -2.601956 -1.757229  0.207581     3\n",
       "175 -2.677839 -2.760899 -0.940942     3\n",
       "176 -2.387017 -2.297347 -0.550696     3\n",
       "177 -3.208758 -2.768920  1.013914     3\n",
       "\n",
       "[178 rows x 4 columns]"
      ]
     },
     "execution_count": 28,
     "metadata": {},
     "output_type": "execute_result"
    }
   ],
   "source": [
    "finalDf"
   ]
  },
  {
   "cell_type": "markdown",
   "id": "78587a6b",
   "metadata": {},
   "source": [
    "# hierarchical clustering"
   ]
  },
  {
   "cell_type": "code",
   "execution_count": 29,
   "id": "22ed27e3",
   "metadata": {},
   "outputs": [],
   "source": [
    "import pandas as pd\n",
    "import scipy.cluster.hierarchy as sch\n",
    "from sklearn.cluster import AgglomerativeClustering\n",
    "from matplotlib import pyplot as plt\n",
    "import seaborn as sns\n",
    "import numpy as np\n",
    "from sklearn.preprocessing import StandardScaler"
   ]
  },
  {
   "cell_type": "code",
   "execution_count": 31,
   "id": "2d81e242",
   "metadata": {},
   "outputs": [
    {
     "data": {
      "text/html": [
       "<div>\n",
       "<style scoped>\n",
       "    .dataframe tbody tr th:only-of-type {\n",
       "        vertical-align: middle;\n",
       "    }\n",
       "\n",
       "    .dataframe tbody tr th {\n",
       "        vertical-align: top;\n",
       "    }\n",
       "\n",
       "    .dataframe thead th {\n",
       "        text-align: right;\n",
       "    }\n",
       "</style>\n",
       "<table border=\"1\" class=\"dataframe\">\n",
       "  <thead>\n",
       "    <tr style=\"text-align: right;\">\n",
       "      <th></th>\n",
       "      <th>pc1</th>\n",
       "      <th>pc2</th>\n",
       "      <th>pc3</th>\n",
       "      <th>Type</th>\n",
       "    </tr>\n",
       "  </thead>\n",
       "  <tbody>\n",
       "    <tr>\n",
       "      <th>0</th>\n",
       "      <td>3.316751</td>\n",
       "      <td>-1.443463</td>\n",
       "      <td>-0.165739</td>\n",
       "      <td>1</td>\n",
       "    </tr>\n",
       "    <tr>\n",
       "      <th>1</th>\n",
       "      <td>2.209465</td>\n",
       "      <td>0.333393</td>\n",
       "      <td>-2.026457</td>\n",
       "      <td>1</td>\n",
       "    </tr>\n",
       "    <tr>\n",
       "      <th>2</th>\n",
       "      <td>2.516740</td>\n",
       "      <td>-1.031151</td>\n",
       "      <td>0.982819</td>\n",
       "      <td>1</td>\n",
       "    </tr>\n",
       "    <tr>\n",
       "      <th>3</th>\n",
       "      <td>3.757066</td>\n",
       "      <td>-2.756372</td>\n",
       "      <td>-0.176192</td>\n",
       "      <td>1</td>\n",
       "    </tr>\n",
       "    <tr>\n",
       "      <th>4</th>\n",
       "      <td>1.008908</td>\n",
       "      <td>-0.869831</td>\n",
       "      <td>2.026688</td>\n",
       "      <td>1</td>\n",
       "    </tr>\n",
       "  </tbody>\n",
       "</table>\n",
       "</div>"
      ],
      "text/plain": [
       "        pc1       pc2       pc3  Type\n",
       "0  3.316751 -1.443463 -0.165739     1\n",
       "1  2.209465  0.333393 -2.026457     1\n",
       "2  2.516740 -1.031151  0.982819     1\n",
       "3  3.757066 -2.756372 -0.176192     1\n",
       "4  1.008908 -0.869831  2.026688     1"
      ]
     },
     "execution_count": 31,
     "metadata": {},
     "output_type": "execute_result"
    }
   ],
   "source": [
    "finalDf.head()"
   ]
  },
  {
   "cell_type": "code",
   "execution_count": 37,
   "id": "25e99f35",
   "metadata": {},
   "outputs": [],
   "source": [
    "array=finalDf.iloc[:,0:3]"
   ]
  },
  {
   "cell_type": "code",
   "execution_count": 38,
   "id": "36dd1e80",
   "metadata": {},
   "outputs": [
    {
     "data": {
      "text/html": [
       "<div>\n",
       "<style scoped>\n",
       "    .dataframe tbody tr th:only-of-type {\n",
       "        vertical-align: middle;\n",
       "    }\n",
       "\n",
       "    .dataframe tbody tr th {\n",
       "        vertical-align: top;\n",
       "    }\n",
       "\n",
       "    .dataframe thead th {\n",
       "        text-align: right;\n",
       "    }\n",
       "</style>\n",
       "<table border=\"1\" class=\"dataframe\">\n",
       "  <thead>\n",
       "    <tr style=\"text-align: right;\">\n",
       "      <th></th>\n",
       "      <th>pc1</th>\n",
       "      <th>pc2</th>\n",
       "      <th>pc3</th>\n",
       "    </tr>\n",
       "  </thead>\n",
       "  <tbody>\n",
       "    <tr>\n",
       "      <th>0</th>\n",
       "      <td>3.316751</td>\n",
       "      <td>-1.443463</td>\n",
       "      <td>-0.165739</td>\n",
       "    </tr>\n",
       "    <tr>\n",
       "      <th>1</th>\n",
       "      <td>2.209465</td>\n",
       "      <td>0.333393</td>\n",
       "      <td>-2.026457</td>\n",
       "    </tr>\n",
       "    <tr>\n",
       "      <th>2</th>\n",
       "      <td>2.516740</td>\n",
       "      <td>-1.031151</td>\n",
       "      <td>0.982819</td>\n",
       "    </tr>\n",
       "    <tr>\n",
       "      <th>3</th>\n",
       "      <td>3.757066</td>\n",
       "      <td>-2.756372</td>\n",
       "      <td>-0.176192</td>\n",
       "    </tr>\n",
       "    <tr>\n",
       "      <th>4</th>\n",
       "      <td>1.008908</td>\n",
       "      <td>-0.869831</td>\n",
       "      <td>2.026688</td>\n",
       "    </tr>\n",
       "    <tr>\n",
       "      <th>...</th>\n",
       "      <td>...</td>\n",
       "      <td>...</td>\n",
       "      <td>...</td>\n",
       "    </tr>\n",
       "    <tr>\n",
       "      <th>173</th>\n",
       "      <td>-3.370524</td>\n",
       "      <td>-2.216289</td>\n",
       "      <td>-0.342570</td>\n",
       "    </tr>\n",
       "    <tr>\n",
       "      <th>174</th>\n",
       "      <td>-2.601956</td>\n",
       "      <td>-1.757229</td>\n",
       "      <td>0.207581</td>\n",
       "    </tr>\n",
       "    <tr>\n",
       "      <th>175</th>\n",
       "      <td>-2.677839</td>\n",
       "      <td>-2.760899</td>\n",
       "      <td>-0.940942</td>\n",
       "    </tr>\n",
       "    <tr>\n",
       "      <th>176</th>\n",
       "      <td>-2.387017</td>\n",
       "      <td>-2.297347</td>\n",
       "      <td>-0.550696</td>\n",
       "    </tr>\n",
       "    <tr>\n",
       "      <th>177</th>\n",
       "      <td>-3.208758</td>\n",
       "      <td>-2.768920</td>\n",
       "      <td>1.013914</td>\n",
       "    </tr>\n",
       "  </tbody>\n",
       "</table>\n",
       "<p>178 rows × 3 columns</p>\n",
       "</div>"
      ],
      "text/plain": [
       "          pc1       pc2       pc3\n",
       "0    3.316751 -1.443463 -0.165739\n",
       "1    2.209465  0.333393 -2.026457\n",
       "2    2.516740 -1.031151  0.982819\n",
       "3    3.757066 -2.756372 -0.176192\n",
       "4    1.008908 -0.869831  2.026688\n",
       "..        ...       ...       ...\n",
       "173 -3.370524 -2.216289 -0.342570\n",
       "174 -2.601956 -1.757229  0.207581\n",
       "175 -2.677839 -2.760899 -0.940942\n",
       "176 -2.387017 -2.297347 -0.550696\n",
       "177 -3.208758 -2.768920  1.013914\n",
       "\n",
       "[178 rows x 3 columns]"
      ]
     },
     "execution_count": 38,
     "metadata": {},
     "output_type": "execute_result"
    }
   ],
   "source": [
    "array"
   ]
  },
  {
   "cell_type": "code",
   "execution_count": 43,
   "id": "e46aae0d",
   "metadata": {},
   "outputs": [
    {
     "data": {
      "image/png": "[encoded data removed]",
      "text/plain": [
       "<Figure size 432x288 with 1 Axes>"
      ]
     },
     "metadata": {
      "needs_background": "light"
     },
     "output_type": "display_data"
    }
   ],
   "source": [
    "dendrogram = sch.dendrogram(sch.linkage(array, method='complete'))"
   ]
  },
  {
   "cell_type": "code",
   "execution_count": 97,
   "id": "4119b4e7",
   "metadata": {},
   "outputs": [
    {
     "data": {
      "text/plain": [
       "AgglomerativeClustering(linkage='complete', n_clusters=3)"
      ]
     },
     "execution_count": 97,
     "metadata": {},
     "output_type": "execute_result"
    }
   ],
   "source": [
    "hc = AgglomerativeClustering(n_clusters=3, affinity = 'euclidean', linkage = 'complete')\n",
    "hc"
   ]
  },
  {
   "cell_type": "code",
   "execution_count": 98,
   "id": "a491e0ca",
   "metadata": {},
   "outputs": [
    {
     "data": {
      "text/plain": [
       "array([0, 1, 0, 0, 0, 0, 0, 0, 0, 0, 0, 0, 0, 0, 0, 0, 0, 0, 0, 0, 0, 0,\n",
       "       0, 0, 0, 2, 0, 1, 0, 0, 0, 0, 0, 0, 0, 0, 0, 0, 1, 0, 0, 0, 0, 0,\n",
       "       0, 0, 0, 0, 0, 0, 1, 0, 0, 0, 0, 0, 0, 0, 0, 1, 0, 0, 1, 0, 0, 0,\n",
       "       1, 1, 0, 1, 0, 0, 0, 2, 0, 1, 1, 0, 1, 0, 0, 0, 0, 0, 0, 0, 0, 0,\n",
       "       0, 0, 0, 0, 0, 0, 0, 0, 0, 1, 0, 0, 1, 1, 0, 0, 0, 0, 0, 0, 0, 0,\n",
       "       0, 0, 0, 0, 0, 0, 0, 0, 0, 0, 0, 2, 0, 0, 0, 0, 0, 0, 0, 0, 0, 0,\n",
       "       0, 0, 0, 0, 0, 0, 0, 0, 0, 0, 0, 0, 0, 0, 0, 0, 0, 0, 0, 0, 0, 0,\n",
       "       0, 0, 0, 0, 0, 0, 0, 0, 0, 0, 0, 0, 0, 0, 0, 0, 0, 0, 0, 0, 0, 0,\n",
       "       0, 0], dtype=int64)"
      ]
     },
     "execution_count": 98,
     "metadata": {},
     "output_type": "execute_result"
    }
   ],
   "source": [
    "y_hc = hc.fit_predict(x)\n",
    "y_hc"
   ]
  },
  {
   "cell_type": "code",
   "execution_count": 99,
   "id": "d18a342a",
   "metadata": {},
   "outputs": [],
   "source": [
    "finalDf['H-clusterid']=pd.Series(y_hc)"
   ]
  },
  {
   "cell_type": "code",
   "execution_count": 100,
   "id": "4175a7f6",
   "metadata": {},
   "outputs": [
    {
     "data": {
      "text/html": [
       "<div>\n",
       "<style scoped>\n",
       "    .dataframe tbody tr th:only-of-type {\n",
       "        vertical-align: middle;\n",
       "    }\n",
       "\n",
       "    .dataframe tbody tr th {\n",
       "        vertical-align: top;\n",
       "    }\n",
       "\n",
       "    .dataframe thead th {\n",
       "        text-align: right;\n",
       "    }\n",
       "</style>\n",
       "<table border=\"1\" class=\"dataframe\">\n",
       "  <thead>\n",
       "    <tr style=\"text-align: right;\">\n",
       "      <th></th>\n",
       "      <th>pc1</th>\n",
       "      <th>pc2</th>\n",
       "      <th>pc3</th>\n",
       "      <th>Type</th>\n",
       "      <th>clusterid</th>\n",
       "      <th>H-clusterid</th>\n",
       "      <th>K-means_clusterid</th>\n",
       "    </tr>\n",
       "  </thead>\n",
       "  <tbody>\n",
       "    <tr>\n",
       "      <th>0</th>\n",
       "      <td>3.316751</td>\n",
       "      <td>-1.443463</td>\n",
       "      <td>-0.165739</td>\n",
       "      <td>1</td>\n",
       "      <td>0</td>\n",
       "      <td>0</td>\n",
       "      <td>0</td>\n",
       "    </tr>\n",
       "    <tr>\n",
       "      <th>1</th>\n",
       "      <td>2.209465</td>\n",
       "      <td>0.333393</td>\n",
       "      <td>-2.026457</td>\n",
       "      <td>1</td>\n",
       "      <td>3</td>\n",
       "      <td>1</td>\n",
       "      <td>0</td>\n",
       "    </tr>\n",
       "    <tr>\n",
       "      <th>2</th>\n",
       "      <td>2.516740</td>\n",
       "      <td>-1.031151</td>\n",
       "      <td>0.982819</td>\n",
       "      <td>1</td>\n",
       "      <td>0</td>\n",
       "      <td>0</td>\n",
       "      <td>0</td>\n",
       "    </tr>\n",
       "    <tr>\n",
       "      <th>3</th>\n",
       "      <td>3.757066</td>\n",
       "      <td>-2.756372</td>\n",
       "      <td>-0.176192</td>\n",
       "      <td>1</td>\n",
       "      <td>0</td>\n",
       "      <td>0</td>\n",
       "      <td>0</td>\n",
       "    </tr>\n",
       "    <tr>\n",
       "      <th>4</th>\n",
       "      <td>1.008908</td>\n",
       "      <td>-0.869831</td>\n",
       "      <td>2.026688</td>\n",
       "      <td>1</td>\n",
       "      <td>0</td>\n",
       "      <td>0</td>\n",
       "      <td>0</td>\n",
       "    </tr>\n",
       "  </tbody>\n",
       "</table>\n",
       "</div>"
      ],
      "text/plain": [
       "        pc1       pc2       pc3  Type  clusterid  H-clusterid  \\\n",
       "0  3.316751 -1.443463 -0.165739     1          0            0   \n",
       "1  2.209465  0.333393 -2.026457     1          3            1   \n",
       "2  2.516740 -1.031151  0.982819     1          0            0   \n",
       "3  3.757066 -2.756372 -0.176192     1          0            0   \n",
       "4  1.008908 -0.869831  2.026688     1          0            0   \n",
       "\n",
       "   K-means_clusterid  \n",
       "0                  0  \n",
       "1                  0  \n",
       "2                  0  \n",
       "3                  0  \n",
       "4                  0  "
      ]
     },
     "execution_count": 100,
     "metadata": {},
     "output_type": "execute_result"
    }
   ],
   "source": [
    "finalDf.head()"
   ]
  },
  {
   "cell_type": "code",
   "execution_count": 101,
   "id": "e476ea56",
   "metadata": {},
   "outputs": [],
   "source": [
    "result=data.iloc[:,1:].groupby(data.clusterid).mean()"
   ]
  },
  {
   "cell_type": "code",
   "execution_count": 102,
   "id": "5ce142ac",
   "metadata": {},
   "outputs": [
    {
     "data": {
      "text/html": [
       "<div>\n",
       "<style scoped>\n",
       "    .dataframe tbody tr th:only-of-type {\n",
       "        vertical-align: middle;\n",
       "    }\n",
       "\n",
       "    .dataframe tbody tr th {\n",
       "        vertical-align: top;\n",
       "    }\n",
       "\n",
       "    .dataframe thead th {\n",
       "        text-align: right;\n",
       "    }\n",
       "</style>\n",
       "<table border=\"1\" class=\"dataframe\">\n",
       "  <thead>\n",
       "    <tr style=\"text-align: right;\">\n",
       "      <th></th>\n",
       "      <th>Alcohol</th>\n",
       "      <th>Malic</th>\n",
       "      <th>Ash</th>\n",
       "      <th>Alcalinity</th>\n",
       "      <th>Magnesium</th>\n",
       "      <th>Phenols</th>\n",
       "      <th>Flavanoids</th>\n",
       "      <th>Nonflavanoids</th>\n",
       "      <th>Proanthocyanins</th>\n",
       "      <th>Color</th>\n",
       "      <th>Hue</th>\n",
       "      <th>Dilution</th>\n",
       "      <th>Proline</th>\n",
       "      <th>clusterid</th>\n",
       "    </tr>\n",
       "    <tr>\n",
       "      <th>clusterid</th>\n",
       "      <th></th>\n",
       "      <th></th>\n",
       "      <th></th>\n",
       "      <th></th>\n",
       "      <th></th>\n",
       "      <th></th>\n",
       "      <th></th>\n",
       "      <th></th>\n",
       "      <th></th>\n",
       "      <th></th>\n",
       "      <th></th>\n",
       "      <th></th>\n",
       "      <th></th>\n",
       "      <th></th>\n",
       "    </tr>\n",
       "  </thead>\n",
       "  <tbody>\n",
       "    <tr>\n",
       "      <th>0</th>\n",
       "      <td>13.466542</td>\n",
       "      <td>2.625981</td>\n",
       "      <td>2.440187</td>\n",
       "      <td>19.097196</td>\n",
       "      <td>103.457944</td>\n",
       "      <td>2.296075</td>\n",
       "      <td>1.941589</td>\n",
       "      <td>0.369907</td>\n",
       "      <td>1.545514</td>\n",
       "      <td>6.337383</td>\n",
       "      <td>0.884393</td>\n",
       "      <td>2.452617</td>\n",
       "      <td>876.177570</td>\n",
       "      <td>0</td>\n",
       "    </tr>\n",
       "    <tr>\n",
       "      <th>1</th>\n",
       "      <td>12.174528</td>\n",
       "      <td>2.042075</td>\n",
       "      <td>2.318113</td>\n",
       "      <td>20.911321</td>\n",
       "      <td>91.320755</td>\n",
       "      <td>2.280377</td>\n",
       "      <td>2.106604</td>\n",
       "      <td>0.370943</td>\n",
       "      <td>1.665849</td>\n",
       "      <td>2.850000</td>\n",
       "      <td>1.042189</td>\n",
       "      <td>2.846792</td>\n",
       "      <td>495.490566</td>\n",
       "      <td>1</td>\n",
       "    </tr>\n",
       "    <tr>\n",
       "      <th>2</th>\n",
       "      <td>12.533333</td>\n",
       "      <td>1.923333</td>\n",
       "      <td>3.016667</td>\n",
       "      <td>27.833333</td>\n",
       "      <td>127.333333</td>\n",
       "      <td>3.036667</td>\n",
       "      <td>3.550000</td>\n",
       "      <td>0.383333</td>\n",
       "      <td>1.916667</td>\n",
       "      <td>4.310000</td>\n",
       "      <td>1.123333</td>\n",
       "      <td>3.463333</td>\n",
       "      <td>760.000000</td>\n",
       "      <td>2</td>\n",
       "    </tr>\n",
       "    <tr>\n",
       "      <th>3</th>\n",
       "      <td>12.689333</td>\n",
       "      <td>1.392667</td>\n",
       "      <td>1.882000</td>\n",
       "      <td>15.660000</td>\n",
       "      <td>97.466667</td>\n",
       "      <td>2.192000</td>\n",
       "      <td>2.077333</td>\n",
       "      <td>0.268000</td>\n",
       "      <td>1.584667</td>\n",
       "      <td>3.884000</td>\n",
       "      <td>1.146000</td>\n",
       "      <td>2.745333</td>\n",
       "      <td>710.333333</td>\n",
       "      <td>3</td>\n",
       "    </tr>\n",
       "  </tbody>\n",
       "</table>\n",
       "</div>"
      ],
      "text/plain": [
       "             Alcohol     Malic       Ash  Alcalinity   Magnesium   Phenols  \\\n",
       "clusterid                                                                    \n",
       "0          13.466542  2.625981  2.440187   19.097196  103.457944  2.296075   \n",
       "1          12.174528  2.042075  2.318113   20.911321   91.320755  2.280377   \n",
       "2          12.533333  1.923333  3.016667   27.833333  127.333333  3.036667   \n",
       "3          12.689333  1.392667  1.882000   15.660000   97.466667  2.192000   \n",
       "\n",
       "           Flavanoids  Nonflavanoids  Proanthocyanins     Color       Hue  \\\n",
       "clusterid                                                                   \n",
       "0            1.941589       0.369907         1.545514  6.337383  0.884393   \n",
       "1            2.106604       0.370943         1.665849  2.850000  1.042189   \n",
       "2            3.550000       0.383333         1.916667  4.310000  1.123333   \n",
       "3            2.077333       0.268000         1.584667  3.884000  1.146000   \n",
       "\n",
       "           Dilution     Proline  clusterid  \n",
       "clusterid                                   \n",
       "0          2.452617  876.177570          0  \n",
       "1          2.846792  495.490566          1  \n",
       "2          3.463333  760.000000          2  \n",
       "3          2.745333  710.333333          3  "
      ]
     },
     "execution_count": 102,
     "metadata": {},
     "output_type": "execute_result"
    }
   ],
   "source": [
    "result"
   ]
  },
  {
   "cell_type": "markdown",
   "id": "43c8141e",
   "metadata": {},
   "source": [
    "# K-means clustering"
   ]
  },
  {
   "cell_type": "code",
   "execution_count": 73,
   "id": "7941970a",
   "metadata": {},
   "outputs": [],
   "source": [
    "import pandas as pd\n",
    "import matplotlib.pylab as plt\n",
    "from sklearn.cluster import KMeans\n",
    "from scipy.spatial.distance import cdist \n",
    "import numpy as np\n",
    "from sklearn.preprocessing import StandardScaler\n"
   ]
  },
  {
   "cell_type": "code",
   "execution_count": 74,
   "id": "a6618376",
   "metadata": {},
   "outputs": [
    {
     "data": {
      "text/html": [
       "<div>\n",
       "<style scoped>\n",
       "    .dataframe tbody tr th:only-of-type {\n",
       "        vertical-align: middle;\n",
       "    }\n",
       "\n",
       "    .dataframe tbody tr th {\n",
       "        vertical-align: top;\n",
       "    }\n",
       "\n",
       "    .dataframe thead th {\n",
       "        text-align: right;\n",
       "    }\n",
       "</style>\n",
       "<table border=\"1\" class=\"dataframe\">\n",
       "  <thead>\n",
       "    <tr style=\"text-align: right;\">\n",
       "      <th></th>\n",
       "      <th>pc1</th>\n",
       "      <th>pc2</th>\n",
       "      <th>pc3</th>\n",
       "      <th>Type</th>\n",
       "      <th>clusterid</th>\n",
       "      <th>H-clusterid</th>\n",
       "    </tr>\n",
       "  </thead>\n",
       "  <tbody>\n",
       "    <tr>\n",
       "      <th>0</th>\n",
       "      <td>3.316751</td>\n",
       "      <td>-1.443463</td>\n",
       "      <td>-0.165739</td>\n",
       "      <td>1</td>\n",
       "      <td>0</td>\n",
       "      <td>0</td>\n",
       "    </tr>\n",
       "    <tr>\n",
       "      <th>1</th>\n",
       "      <td>2.209465</td>\n",
       "      <td>0.333393</td>\n",
       "      <td>-2.026457</td>\n",
       "      <td>1</td>\n",
       "      <td>3</td>\n",
       "      <td>3</td>\n",
       "    </tr>\n",
       "    <tr>\n",
       "      <th>2</th>\n",
       "      <td>2.516740</td>\n",
       "      <td>-1.031151</td>\n",
       "      <td>0.982819</td>\n",
       "      <td>1</td>\n",
       "      <td>0</td>\n",
       "      <td>0</td>\n",
       "    </tr>\n",
       "    <tr>\n",
       "      <th>3</th>\n",
       "      <td>3.757066</td>\n",
       "      <td>-2.756372</td>\n",
       "      <td>-0.176192</td>\n",
       "      <td>1</td>\n",
       "      <td>0</td>\n",
       "      <td>0</td>\n",
       "    </tr>\n",
       "    <tr>\n",
       "      <th>4</th>\n",
       "      <td>1.008908</td>\n",
       "      <td>-0.869831</td>\n",
       "      <td>2.026688</td>\n",
       "      <td>1</td>\n",
       "      <td>0</td>\n",
       "      <td>0</td>\n",
       "    </tr>\n",
       "    <tr>\n",
       "      <th>...</th>\n",
       "      <td>...</td>\n",
       "      <td>...</td>\n",
       "      <td>...</td>\n",
       "      <td>...</td>\n",
       "      <td>...</td>\n",
       "      <td>...</td>\n",
       "    </tr>\n",
       "    <tr>\n",
       "      <th>173</th>\n",
       "      <td>-3.370524</td>\n",
       "      <td>-2.216289</td>\n",
       "      <td>-0.342570</td>\n",
       "      <td>3</td>\n",
       "      <td>0</td>\n",
       "      <td>0</td>\n",
       "    </tr>\n",
       "    <tr>\n",
       "      <th>174</th>\n",
       "      <td>-2.601956</td>\n",
       "      <td>-1.757229</td>\n",
       "      <td>0.207581</td>\n",
       "      <td>3</td>\n",
       "      <td>0</td>\n",
       "      <td>0</td>\n",
       "    </tr>\n",
       "    <tr>\n",
       "      <th>175</th>\n",
       "      <td>-2.677839</td>\n",
       "      <td>-2.760899</td>\n",
       "      <td>-0.940942</td>\n",
       "      <td>3</td>\n",
       "      <td>0</td>\n",
       "      <td>0</td>\n",
       "    </tr>\n",
       "    <tr>\n",
       "      <th>176</th>\n",
       "      <td>-2.387017</td>\n",
       "      <td>-2.297347</td>\n",
       "      <td>-0.550696</td>\n",
       "      <td>3</td>\n",
       "      <td>0</td>\n",
       "      <td>0</td>\n",
       "    </tr>\n",
       "    <tr>\n",
       "      <th>177</th>\n",
       "      <td>-3.208758</td>\n",
       "      <td>-2.768920</td>\n",
       "      <td>1.013914</td>\n",
       "      <td>3</td>\n",
       "      <td>0</td>\n",
       "      <td>0</td>\n",
       "    </tr>\n",
       "  </tbody>\n",
       "</table>\n",
       "<p>178 rows × 6 columns</p>\n",
       "</div>"
      ],
      "text/plain": [
       "          pc1       pc2       pc3  Type  clusterid  H-clusterid\n",
       "0    3.316751 -1.443463 -0.165739     1          0            0\n",
       "1    2.209465  0.333393 -2.026457     1          3            3\n",
       "2    2.516740 -1.031151  0.982819     1          0            0\n",
       "3    3.757066 -2.756372 -0.176192     1          0            0\n",
       "4    1.008908 -0.869831  2.026688     1          0            0\n",
       "..        ...       ...       ...   ...        ...          ...\n",
       "173 -3.370524 -2.216289 -0.342570     3          0            0\n",
       "174 -2.601956 -1.757229  0.207581     3          0            0\n",
       "175 -2.677839 -2.760899 -0.940942     3          0            0\n",
       "176 -2.387017 -2.297347 -0.550696     3          0            0\n",
       "177 -3.208758 -2.768920  1.013914     3          0            0\n",
       "\n",
       "[178 rows x 6 columns]"
      ]
     },
     "execution_count": 74,
     "metadata": {},
     "output_type": "execute_result"
    }
   ],
   "source": [
    "finalDf"
   ]
  },
  {
   "cell_type": "code",
   "execution_count": 75,
   "id": "a82c5f5f",
   "metadata": {},
   "outputs": [],
   "source": [
    "array1=finalDf.iloc[:,0:3]"
   ]
  },
  {
   "cell_type": "code",
   "execution_count": 76,
   "id": "7e7a76e9",
   "metadata": {},
   "outputs": [
    {
     "data": {
      "text/html": [
       "<div>\n",
       "<style scoped>\n",
       "    .dataframe tbody tr th:only-of-type {\n",
       "        vertical-align: middle;\n",
       "    }\n",
       "\n",
       "    .dataframe tbody tr th {\n",
       "        vertical-align: top;\n",
       "    }\n",
       "\n",
       "    .dataframe thead th {\n",
       "        text-align: right;\n",
       "    }\n",
       "</style>\n",
       "<table border=\"1\" class=\"dataframe\">\n",
       "  <thead>\n",
       "    <tr style=\"text-align: right;\">\n",
       "      <th></th>\n",
       "      <th>pc1</th>\n",
       "      <th>pc2</th>\n",
       "      <th>pc3</th>\n",
       "    </tr>\n",
       "  </thead>\n",
       "  <tbody>\n",
       "    <tr>\n",
       "      <th>0</th>\n",
       "      <td>3.316751</td>\n",
       "      <td>-1.443463</td>\n",
       "      <td>-0.165739</td>\n",
       "    </tr>\n",
       "    <tr>\n",
       "      <th>1</th>\n",
       "      <td>2.209465</td>\n",
       "      <td>0.333393</td>\n",
       "      <td>-2.026457</td>\n",
       "    </tr>\n",
       "    <tr>\n",
       "      <th>2</th>\n",
       "      <td>2.516740</td>\n",
       "      <td>-1.031151</td>\n",
       "      <td>0.982819</td>\n",
       "    </tr>\n",
       "    <tr>\n",
       "      <th>3</th>\n",
       "      <td>3.757066</td>\n",
       "      <td>-2.756372</td>\n",
       "      <td>-0.176192</td>\n",
       "    </tr>\n",
       "    <tr>\n",
       "      <th>4</th>\n",
       "      <td>1.008908</td>\n",
       "      <td>-0.869831</td>\n",
       "      <td>2.026688</td>\n",
       "    </tr>\n",
       "    <tr>\n",
       "      <th>...</th>\n",
       "      <td>...</td>\n",
       "      <td>...</td>\n",
       "      <td>...</td>\n",
       "    </tr>\n",
       "    <tr>\n",
       "      <th>173</th>\n",
       "      <td>-3.370524</td>\n",
       "      <td>-2.216289</td>\n",
       "      <td>-0.342570</td>\n",
       "    </tr>\n",
       "    <tr>\n",
       "      <th>174</th>\n",
       "      <td>-2.601956</td>\n",
       "      <td>-1.757229</td>\n",
       "      <td>0.207581</td>\n",
       "    </tr>\n",
       "    <tr>\n",
       "      <th>175</th>\n",
       "      <td>-2.677839</td>\n",
       "      <td>-2.760899</td>\n",
       "      <td>-0.940942</td>\n",
       "    </tr>\n",
       "    <tr>\n",
       "      <th>176</th>\n",
       "      <td>-2.387017</td>\n",
       "      <td>-2.297347</td>\n",
       "      <td>-0.550696</td>\n",
       "    </tr>\n",
       "    <tr>\n",
       "      <th>177</th>\n",
       "      <td>-3.208758</td>\n",
       "      <td>-2.768920</td>\n",
       "      <td>1.013914</td>\n",
       "    </tr>\n",
       "  </tbody>\n",
       "</table>\n",
       "<p>178 rows × 3 columns</p>\n",
       "</div>"
      ],
      "text/plain": [
       "          pc1       pc2       pc3\n",
       "0    3.316751 -1.443463 -0.165739\n",
       "1    2.209465  0.333393 -2.026457\n",
       "2    2.516740 -1.031151  0.982819\n",
       "3    3.757066 -2.756372 -0.176192\n",
       "4    1.008908 -0.869831  2.026688\n",
       "..        ...       ...       ...\n",
       "173 -3.370524 -2.216289 -0.342570\n",
       "174 -2.601956 -1.757229  0.207581\n",
       "175 -2.677839 -2.760899 -0.940942\n",
       "176 -2.387017 -2.297347 -0.550696\n",
       "177 -3.208758 -2.768920  1.013914\n",
       "\n",
       "[178 rows x 3 columns]"
      ]
     },
     "execution_count": 76,
     "metadata": {},
     "output_type": "execute_result"
    }
   ],
   "source": [
    "array1"
   ]
  },
  {
   "cell_type": "code",
   "execution_count": 89,
   "id": "4615ca2b",
   "metadata": {},
   "outputs": [
    {
     "data": {
      "text/plain": [
       "KMeans(n_clusters=3)"
      ]
     },
     "execution_count": 89,
     "metadata": {},
     "output_type": "execute_result"
    }
   ],
   "source": [
    "kmeans_clust=KMeans(n_clusters=3)\n",
    "kmeans_clust.fit(array1)"
   ]
  },
  {
   "cell_type": "code",
   "execution_count": 90,
   "id": "f380bf69",
   "metadata": {},
   "outputs": [
    {
     "data": {
      "text/plain": [
       "array([0, 0, 0, 0, 0, 0, 0, 0, 0, 0, 0, 0, 0, 0, 0, 0, 0, 0, 0, 0, 0, 0,\n",
       "       0, 0, 0, 0, 0, 0, 0, 0, 0, 0, 0, 0, 0, 0, 0, 0, 0, 0, 0, 0, 0, 0,\n",
       "       0, 0, 0, 0, 0, 0, 0, 0, 0, 0, 0, 0, 0, 0, 0, 2, 2, 1, 2, 2, 2, 2,\n",
       "       2, 2, 2, 2, 2, 2, 2, 0, 2, 2, 2, 2, 2, 2, 2, 2, 2, 1, 2, 2, 2, 2,\n",
       "       2, 2, 2, 2, 2, 2, 2, 0, 2, 2, 2, 2, 2, 2, 2, 2, 2, 2, 2, 2, 2, 2,\n",
       "       2, 2, 2, 2, 2, 2, 2, 2, 1, 2, 2, 0, 2, 2, 2, 2, 2, 2, 2, 2, 1, 1,\n",
       "       1, 1, 1, 1, 1, 1, 1, 1, 1, 1, 1, 1, 1, 1, 1, 1, 1, 1, 1, 1, 1, 1,\n",
       "       1, 1, 1, 1, 1, 1, 1, 1, 1, 1, 1, 1, 1, 1, 1, 1, 1, 1, 1, 1, 1, 1,\n",
       "       1, 1])"
      ]
     },
     "execution_count": 90,
     "metadata": {},
     "output_type": "execute_result"
    }
   ],
   "source": [
    "kmeans_clust.labels_"
   ]
  },
  {
   "cell_type": "code",
   "execution_count": 91,
   "id": "c36fe34d",
   "metadata": {},
   "outputs": [],
   "source": [
    "finalDf['K-means_clusterid']=pd.Series(kmeans_clust.labels_)"
   ]
  },
  {
   "cell_type": "code",
   "execution_count": 92,
   "id": "7b85100f",
   "metadata": {},
   "outputs": [
    {
     "data": {
      "text/html": [
       "<div>\n",
       "<style scoped>\n",
       "    .dataframe tbody tr th:only-of-type {\n",
       "        vertical-align: middle;\n",
       "    }\n",
       "\n",
       "    .dataframe tbody tr th {\n",
       "        vertical-align: top;\n",
       "    }\n",
       "\n",
       "    .dataframe thead th {\n",
       "        text-align: right;\n",
       "    }\n",
       "</style>\n",
       "<table border=\"1\" class=\"dataframe\">\n",
       "  <thead>\n",
       "    <tr style=\"text-align: right;\">\n",
       "      <th></th>\n",
       "      <th>pc1</th>\n",
       "      <th>pc2</th>\n",
       "      <th>pc3</th>\n",
       "      <th>Type</th>\n",
       "      <th>clusterid</th>\n",
       "      <th>H-clusterid</th>\n",
       "      <th>K-means_clusterid</th>\n",
       "    </tr>\n",
       "  </thead>\n",
       "  <tbody>\n",
       "    <tr>\n",
       "      <th>0</th>\n",
       "      <td>3.316751</td>\n",
       "      <td>-1.443463</td>\n",
       "      <td>-0.165739</td>\n",
       "      <td>1</td>\n",
       "      <td>0</td>\n",
       "      <td>0</td>\n",
       "      <td>0</td>\n",
       "    </tr>\n",
       "    <tr>\n",
       "      <th>1</th>\n",
       "      <td>2.209465</td>\n",
       "      <td>0.333393</td>\n",
       "      <td>-2.026457</td>\n",
       "      <td>1</td>\n",
       "      <td>3</td>\n",
       "      <td>3</td>\n",
       "      <td>0</td>\n",
       "    </tr>\n",
       "    <tr>\n",
       "      <th>2</th>\n",
       "      <td>2.516740</td>\n",
       "      <td>-1.031151</td>\n",
       "      <td>0.982819</td>\n",
       "      <td>1</td>\n",
       "      <td>0</td>\n",
       "      <td>0</td>\n",
       "      <td>0</td>\n",
       "    </tr>\n",
       "    <tr>\n",
       "      <th>3</th>\n",
       "      <td>3.757066</td>\n",
       "      <td>-2.756372</td>\n",
       "      <td>-0.176192</td>\n",
       "      <td>1</td>\n",
       "      <td>0</td>\n",
       "      <td>0</td>\n",
       "      <td>0</td>\n",
       "    </tr>\n",
       "    <tr>\n",
       "      <th>4</th>\n",
       "      <td>1.008908</td>\n",
       "      <td>-0.869831</td>\n",
       "      <td>2.026688</td>\n",
       "      <td>1</td>\n",
       "      <td>0</td>\n",
       "      <td>0</td>\n",
       "      <td>0</td>\n",
       "    </tr>\n",
       "    <tr>\n",
       "      <th>...</th>\n",
       "      <td>...</td>\n",
       "      <td>...</td>\n",
       "      <td>...</td>\n",
       "      <td>...</td>\n",
       "      <td>...</td>\n",
       "      <td>...</td>\n",
       "      <td>...</td>\n",
       "    </tr>\n",
       "    <tr>\n",
       "      <th>173</th>\n",
       "      <td>-3.370524</td>\n",
       "      <td>-2.216289</td>\n",
       "      <td>-0.342570</td>\n",
       "      <td>3</td>\n",
       "      <td>0</td>\n",
       "      <td>0</td>\n",
       "      <td>1</td>\n",
       "    </tr>\n",
       "    <tr>\n",
       "      <th>174</th>\n",
       "      <td>-2.601956</td>\n",
       "      <td>-1.757229</td>\n",
       "      <td>0.207581</td>\n",
       "      <td>3</td>\n",
       "      <td>0</td>\n",
       "      <td>0</td>\n",
       "      <td>1</td>\n",
       "    </tr>\n",
       "    <tr>\n",
       "      <th>175</th>\n",
       "      <td>-2.677839</td>\n",
       "      <td>-2.760899</td>\n",
       "      <td>-0.940942</td>\n",
       "      <td>3</td>\n",
       "      <td>0</td>\n",
       "      <td>0</td>\n",
       "      <td>1</td>\n",
       "    </tr>\n",
       "    <tr>\n",
       "      <th>176</th>\n",
       "      <td>-2.387017</td>\n",
       "      <td>-2.297347</td>\n",
       "      <td>-0.550696</td>\n",
       "      <td>3</td>\n",
       "      <td>0</td>\n",
       "      <td>0</td>\n",
       "      <td>1</td>\n",
       "    </tr>\n",
       "    <tr>\n",
       "      <th>177</th>\n",
       "      <td>-3.208758</td>\n",
       "      <td>-2.768920</td>\n",
       "      <td>1.013914</td>\n",
       "      <td>3</td>\n",
       "      <td>0</td>\n",
       "      <td>0</td>\n",
       "      <td>1</td>\n",
       "    </tr>\n",
       "  </tbody>\n",
       "</table>\n",
       "<p>178 rows × 7 columns</p>\n",
       "</div>"
      ],
      "text/plain": [
       "          pc1       pc2       pc3  Type  clusterid  H-clusterid  \\\n",
       "0    3.316751 -1.443463 -0.165739     1          0            0   \n",
       "1    2.209465  0.333393 -2.026457     1          3            3   \n",
       "2    2.516740 -1.031151  0.982819     1          0            0   \n",
       "3    3.757066 -2.756372 -0.176192     1          0            0   \n",
       "4    1.008908 -0.869831  2.026688     1          0            0   \n",
       "..        ...       ...       ...   ...        ...          ...   \n",
       "173 -3.370524 -2.216289 -0.342570     3          0            0   \n",
       "174 -2.601956 -1.757229  0.207581     3          0            0   \n",
       "175 -2.677839 -2.760899 -0.940942     3          0            0   \n",
       "176 -2.387017 -2.297347 -0.550696     3          0            0   \n",
       "177 -3.208758 -2.768920  1.013914     3          0            0   \n",
       "\n",
       "     K-means_clusterid  \n",
       "0                    0  \n",
       "1                    0  \n",
       "2                    0  \n",
       "3                    0  \n",
       "4                    0  \n",
       "..                 ...  \n",
       "173                  1  \n",
       "174                  1  \n",
       "175                  1  \n",
       "176                  1  \n",
       "177                  1  \n",
       "\n",
       "[178 rows x 7 columns]"
      ]
     },
     "execution_count": 92,
     "metadata": {},
     "output_type": "execute_result"
    }
   ],
   "source": [
    "finalDf"
   ]
  },
  {
   "cell_type": "code",
   "execution_count": 93,
   "id": "c9616946",
   "metadata": {},
   "outputs": [
    {
     "data": {
      "text/plain": [
       "array([[ 2.27619360e+00, -9.32054027e-01,  1.52803156e-03],\n",
       "       [-2.72003575e+00, -1.12565126e+00, -2.39093241e-01],\n",
       "       [-3.69566084e-02,  1.77223945e+00,  1.86138728e-01]])"
      ]
     },
     "execution_count": 93,
     "metadata": {},
     "output_type": "execute_result"
    }
   ],
   "source": [
    "kmeans_clust.cluster_centers_"
   ]
  },
  {
   "cell_type": "code",
   "execution_count": 94,
   "id": "51faee03",
   "metadata": {},
   "outputs": [
    {
     "data": {
      "text/plain": [
       "(3,)"
      ]
     },
     "execution_count": 94,
     "metadata": {},
     "output_type": "execute_result"
    }
   ],
   "source": [
    "kmeans_clust.cluster_centers_[0].shape"
   ]
  },
  {
   "cell_type": "code",
   "execution_count": 95,
   "id": "f422215c",
   "metadata": {},
   "outputs": [
    {
     "name": "stdout",
     "output_type": "stream",
     "text": [
      "TWSS when k is 2 [366.63285776]\n",
      "TWSS when k is 3 [268.79521233]\n",
      "TWSS when k is 4 [247.65025067]\n",
      "TWSS when k is 5 [234.78850857]\n",
      "TWSS when k is 6 [215.72956935]\n",
      "TWSS when k is 7 [205.03426025]\n",
      "TWSS when k is 8 [195.94861899]\n",
      "TWSS when k is 9 [187.36755677]\n",
      "TWSS when k is 10 [176.78864374]\n"
     ]
    }
   ],
   "source": [
    "k = list(range(2,11))\n",
    "k\n",
    "TWSS = [] \n",
    "for i in k:\n",
    "    kmeans = KMeans(n_clusters = i)\n",
    "    kmeans.fit(array)\n",
    "    WSS = [] # variable for storing within sum of squares for each cluster \n",
    "    for j in range(i):\n",
    "        WSS.append(sum(cdist(array1.iloc[kmeans.labels_==j,:],kmeans.cluster_centers_[j].reshape(1,array1.shape[1]),\"euclidean\")))\n",
    "        \n",
    "    print(\"TWSS when k is\",i,sum(WSS))\n",
    "    TWSS.append(sum(WSS))\n",
    "    "
   ]
  },
  {
   "cell_type": "code",
   "execution_count": 96,
   "id": "f05cb3ac",
   "metadata": {},
   "outputs": [
    {
     "data": {
      "text/plain": [
       "Text(0, 0.5, 'total_within_SS')"
      ]
     },
     "execution_count": 96,
     "metadata": {},
     "output_type": "execute_result"
    },
    {
     "data": {
      "image/png": "[encoded data removed]",
      "text/plain": [
       "<Figure size 432x288 with 1 Axes>"
      ]
     },
     "metadata": {
      "needs_background": "light"
     },
     "output_type": "display_data"
    }
   ],
   "source": [
    "plt.plot(k,TWSS, 'ro-');\n",
    "plt.xlabel(\"No_of_Clusters\");\n",
    "plt.ylabel(\"total_within_SS\")"
   ]
  },
  {
   "cell_type": "code",
   "execution_count": 103,
   "id": "cf79f045",
   "metadata": {},
   "outputs": [
    {
     "data": {
      "text/plain": [
       "array([1, 2, 3], dtype=int64)"
      ]
     },
     "execution_count": 103,
     "metadata": {},
     "output_type": "execute_result"
    }
   ],
   "source": [
    "data.Type.unique()"
   ]
  },
  {
   "cell_type": "code",
   "execution_count": 104,
   "id": "f3d84bef",
   "metadata": {},
   "outputs": [
    {
     "data": {
      "text/html": [
       "<div>\n",
       "<style scoped>\n",
       "    .dataframe tbody tr th:only-of-type {\n",
       "        vertical-align: middle;\n",
       "    }\n",
       "\n",
       "    .dataframe tbody tr th {\n",
       "        vertical-align: top;\n",
       "    }\n",
       "\n",
       "    .dataframe thead th {\n",
       "        text-align: right;\n",
       "    }\n",
       "</style>\n",
       "<table border=\"1\" class=\"dataframe\">\n",
       "  <thead>\n",
       "    <tr style=\"text-align: right;\">\n",
       "      <th></th>\n",
       "      <th>pc1</th>\n",
       "      <th>pc2</th>\n",
       "      <th>pc3</th>\n",
       "      <th>Type</th>\n",
       "      <th>clusterid</th>\n",
       "      <th>H-clusterid</th>\n",
       "      <th>K-means_clusterid</th>\n",
       "    </tr>\n",
       "  </thead>\n",
       "  <tbody>\n",
       "    <tr>\n",
       "      <th>0</th>\n",
       "      <td>3.316751</td>\n",
       "      <td>-1.443463</td>\n",
       "      <td>-0.165739</td>\n",
       "      <td>1</td>\n",
       "      <td>0</td>\n",
       "      <td>0</td>\n",
       "      <td>0</td>\n",
       "    </tr>\n",
       "    <tr>\n",
       "      <th>1</th>\n",
       "      <td>2.209465</td>\n",
       "      <td>0.333393</td>\n",
       "      <td>-2.026457</td>\n",
       "      <td>1</td>\n",
       "      <td>3</td>\n",
       "      <td>1</td>\n",
       "      <td>0</td>\n",
       "    </tr>\n",
       "    <tr>\n",
       "      <th>2</th>\n",
       "      <td>2.516740</td>\n",
       "      <td>-1.031151</td>\n",
       "      <td>0.982819</td>\n",
       "      <td>1</td>\n",
       "      <td>0</td>\n",
       "      <td>0</td>\n",
       "      <td>0</td>\n",
       "    </tr>\n",
       "    <tr>\n",
       "      <th>3</th>\n",
       "      <td>3.757066</td>\n",
       "      <td>-2.756372</td>\n",
       "      <td>-0.176192</td>\n",
       "      <td>1</td>\n",
       "      <td>0</td>\n",
       "      <td>0</td>\n",
       "      <td>0</td>\n",
       "    </tr>\n",
       "    <tr>\n",
       "      <th>4</th>\n",
       "      <td>1.008908</td>\n",
       "      <td>-0.869831</td>\n",
       "      <td>2.026688</td>\n",
       "      <td>1</td>\n",
       "      <td>0</td>\n",
       "      <td>0</td>\n",
       "      <td>0</td>\n",
       "    </tr>\n",
       "  </tbody>\n",
       "</table>\n",
       "</div>"
      ],
      "text/plain": [
       "        pc1       pc2       pc3  Type  clusterid  H-clusterid  \\\n",
       "0  3.316751 -1.443463 -0.165739     1          0            0   \n",
       "1  2.209465  0.333393 -2.026457     1          3            1   \n",
       "2  2.516740 -1.031151  0.982819     1          0            0   \n",
       "3  3.757066 -2.756372 -0.176192     1          0            0   \n",
       "4  1.008908 -0.869831  2.026688     1          0            0   \n",
       "\n",
       "   K-means_clusterid  \n",
       "0                  0  \n",
       "1                  0  \n",
       "2                  0  \n",
       "3                  0  \n",
       "4                  0  "
      ]
     },
     "execution_count": 104,
     "metadata": {},
     "output_type": "execute_result"
    }
   ],
   "source": [
    "finalDf.head()"
   ]
  },
  {
   "cell_type": "code",
   "execution_count": null,
   "id": "17097a76",
   "metadata": {},
   "outputs": [],
   "source": []
  }
 ],
 "metadata": {
  "kernelspec": {
   "display_name": "Python 3",
   "language": "python",
   "name": "python3"
  },
  "language_info": {
   "codemirror_mode": {
    "name": "ipython",
    "version": 3
   },
   "file_extension": ".py",
   "mimetype": "text/x-python",
   "name": "python",
   "nbconvert_exporter": "python",
   "pygments_lexer": "ipython3",
   "version": "3.8.8"
  }
 },
 "nbformat": 4,
 "nbformat_minor": 5
}
